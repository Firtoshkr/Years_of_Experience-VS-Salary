{
 "cells": [
  {
   "cell_type": "code",
   "execution_count": 3,
   "metadata": {},
   "outputs": [],
   "source": [
    "import numpy as np\n",
    "import pandas as pd\n",
    "import matplotlib.pyplot as plt\n",
    "from sklearn.datasets import make_blobs"
   ]
  },
  {
   "cell_type": "code",
   "execution_count": 33,
   "metadata": {},
   "outputs": [],
   "source": [
    "data = pd.read_csv(\"C:\\\\Users\\\\firto\\\\jupyter\\\\salary.csv\")"
   ]
  },
  {
   "cell_type": "code",
   "execution_count": 34,
   "metadata": {},
   "outputs": [],
   "source": [
    "X = np.array(data['YearsExperience'])\n",
    "y = np.array(data['Salary'])"
   ]
  },
  {
   "cell_type": "code",
   "execution_count": 35,
   "metadata": {},
   "outputs": [
    {
     "data": {
      "text/plain": [
       "<matplotlib.collections.PathCollection at 0x2171b6d07b8>"
      ]
     },
     "execution_count": 35,
     "metadata": {},
     "output_type": "execute_result"
    },
    {
     "data": {
      "image/png": "[encoded data removed]",
      "text/plain": [
       "<Figure size 432x288 with 1 Axes>"
      ]
     },
     "metadata": {
      "needs_background": "light"
     },
     "output_type": "display_data"
    }
   ],
   "source": [
    "plt.scatter(X,y)"
   ]
  },
  {
   "cell_type": "code",
   "execution_count": 36,
   "metadata": {},
   "outputs": [],
   "source": [
    "u = np.mean(X)\n",
    "std = np.std(X)\n",
    "X = (X-u)/std"
   ]
  },
  {
   "cell_type": "code",
   "execution_count": 37,
   "metadata": {},
   "outputs": [
    {
     "name": "stdout",
     "output_type": "stream",
     "text": [
      "(30,) (30,)\n",
      "(30, 1) (30, 1)\n"
     ]
    }
   ],
   "source": [
    "print(X.shape,y.shape)\n",
    "x = X.reshape((30,1))\n",
    "y = y.reshape((30,1))\n",
    "print(x.shape,y.shape)"
   ]
  },
  {
   "cell_type": "code",
   "execution_count": 79,
   "metadata": {},
   "outputs": [],
   "source": [
    "def hypothesis(x,theta):\n",
    "    y_ = theta[1]*x + theta[0]\n",
    "    return y_\n",
    "def error(x,y,theta):\n",
    "    m,n = x.shape\n",
    "    y_ = hypothesis(x,theta)\n",
    "    err = np.sum((y_-y)**2)\n",
    "    return err/m\n",
    "def gradient(x,y,theta):\n",
    "    m,n = x.shape\n",
    "    y_ = hypothesis(x,theta)\n",
    "    grad = np.zeros((2,))\n",
    "    grad[0] = np.sum(y_-y)\n",
    "    grad[1] = np.dot(x.T,y_-y)\n",
    "    return grad/m\n",
    "def gradientDescent(x,y,learning_rate = 0.1,epoch = 300):\n",
    "    m,n = x.shape\n",
    "    grad = np.zeros((2,))\n",
    "    theta = np.zeros((2,))\n",
    "    err = []\n",
    "    for i in range(epoch):\n",
    "        er = error(x,y,theta)\n",
    "        err.append(er)\n",
    "        grad = gradient(x,y,theta)\n",
    "        theta = theta - learning_rate * grad\n",
    "    return err, theta\n",
    "    "
   ]
  },
  {
   "cell_type": "code",
   "execution_count": 80,
   "metadata": {},
   "outputs": [
    {
     "data": {
      "text/plain": [
       "[6502955270.733334,\n",
       " 5273335250.121233,\n",
       " 4277343033.4254327,\n",
       " 3470589337.9018335,\n",
       " 2817118844.527718,\n",
       " 2287807744.8946853,\n",
       " 1859065754.1919281,\n",
       " 1511784741.7226946,\n",
       " 1230487121.6226163,\n",
       " 1002636049.3415527,\n",
       " 818076680.7938913,\n",
       " 668583592.2702852,\n",
       " 547494190.5661643,\n",
       " 449411775.1858265,\n",
       " 369965018.72775286,\n",
       " 305613145.9967134,\n",
       " 253488129.08457118,\n",
       " 211266865.385736,\n",
       " 177067641.7896795,\n",
       " 149366270.67687365,\n",
       " 126928160.07550105,\n",
       " 108753290.48838912,\n",
       " 94031646.12282866,\n",
       " 82107114.18672465,\n",
       " 72448243.31848034,\n",
       " 64624557.91520242,\n",
       " 58287372.73854728,\n",
       " 53154252.74545676,\n",
       " 48996425.55105337,\n",
       " 45628585.52358656,\n",
       " 42900635.10133849,\n",
       " 40690995.25931753,\n",
       " 38901186.98728053,\n",
       " 37451442.28693064,\n",
       " 36277149.07964721,\n",
       " 35325971.58174762,\n",
       " 34555517.80844898,\n",
       " 33931450.25207703,\n",
       " 33425955.53141576,\n",
       " 33016504.80768013,\n",
       " 32684849.72145426,\n",
       " 32416209.10161135,\n",
       " 32198610.199538592,\n",
       " 32022355.088859625,\n",
       " 31879588.449209675,\n",
       " 31763947.471093215,\n",
       " 31670278.27881888,\n",
       " 31594406.233076673,\n",
       " 31532949.8760255,\n",
       " 31483170.226814035,\n",
       " 31442848.710952744,\n",
       " 31410188.283105098,\n",
       " 31383733.336548522,\n",
       " 31362304.829837687,\n",
       " 31344947.739401903,\n",
       " 31330888.496148925,\n",
       " 31319500.50911402,\n",
       " 31310276.23961574,\n",
       " 31302804.58132213,\n",
       " 31296752.538104307,\n",
       " 31291850.383097876,\n",
       " 31287879.637542654,\n",
       " 31284663.333642934,\n",
       " 31282058.12748417,\n",
       " 31279947.910495564,\n",
       " 31278238.634734794,\n",
       " 31276854.121368565,\n",
       " 31275732.66554192,\n",
       " 31274824.286322344,\n",
       " 31274088.499154482,\n",
       " 31273492.511548515,\n",
       " 31273009.761587672,\n",
       " 31272618.734119397,\n",
       " 31272302.00187009,\n",
       " 31272045.448748175,\n",
       " 31271837.640719395,\n",
       " 31271669.31621607,\n",
       " 31271532.97336842,\n",
       " 31271422.535661805,\n",
       " 31271333.08111944,\n",
       " 31271260.62294013,\n",
       " 31271201.931814883,\n",
       " 31271154.392003443,\n",
       " 31271115.884756174,\n",
       " 31271084.693885874,\n",
       " 31271059.42928095,\n",
       " 31271038.96495094,\n",
       " 31271022.388843663,\n",
       " 31271008.96219674,\n",
       " 31270998.08661274,\n",
       " 31270989.277389698,\n",
       " 31270982.14191906,\n",
       " 31270976.36218779,\n",
       " 31270971.680605512,\n",
       " 31270967.88852384,\n",
       " 31270964.81693771,\n",
       " 31270962.328952923,\n",
       " 31270960.313685246,\n",
       " 31270958.68131843,\n",
       " 31270957.35910132,\n",
       " 31270956.28810544,\n",
       " 31270955.420598805,\n",
       " 31270954.717918403,\n",
       " 31270954.14874729,\n",
       " 31270953.68771869,\n",
       " 31270953.314285535,\n",
       " 31270953.011804663,\n",
       " 31270952.76679516,\n",
       " 31270952.56833745,\n",
       " 31270952.40758674,\n",
       " 31270952.277378626,\n",
       " 31270952.17191007,\n",
       " 31270952.086480543,\n",
       " 31270952.017282628,\n",
       " 31270951.961232312,\n",
       " 31270951.91583155,\n",
       " 31270951.87905695,\n",
       " 31270951.8492695,\n",
       " 31270951.825141672,\n",
       " 31270951.80559813,\n",
       " 31270951.789767887,\n",
       " 31270951.776945375,\n",
       " 31270951.766559135,\n",
       " 31270951.75814628,\n",
       " 31270951.751331866,\n",
       " 31270951.745812193,\n",
       " 31270951.741341256,\n",
       " 31270951.7377198,\n",
       " 31270951.73478644,\n",
       " 31270951.732410394,\n",
       " 31270951.73048581,\n",
       " 31270951.728926882,\n",
       " 31270951.72766415,\n",
       " 31270951.726641357,\n",
       " 31270951.725812875,\n",
       " 31270951.725141812,\n",
       " 31270951.72459824,\n",
       " 31270951.724157974,\n",
       " 31270951.72380133,\n",
       " 31270951.723512467,\n",
       " 31270951.723278485,\n",
       " 31270951.723088946,\n",
       " 31270951.72293543,\n",
       " 31270951.72281109,\n",
       " 31270951.72271037,\n",
       " 31270951.72262879,\n",
       " 31270951.722562693,\n",
       " 31270951.722509164,\n",
       " 31270951.722465806,\n",
       " 31270951.722430702,\n",
       " 31270951.72240225,\n",
       " 31270951.722379196,\n",
       " 31270951.72236053,\n",
       " 31270951.72234541,\n",
       " 31270951.722333174,\n",
       " 31270951.722323254,\n",
       " 31270951.722315215,\n",
       " 31270951.7223087,\n",
       " 31270951.722303413,\n",
       " 31270951.72229917,\n",
       " 31270951.7222957,\n",
       " 31270951.722292893,\n",
       " 31270951.722290635,\n",
       " 31270951.7222888,\n",
       " 31270951.722287305,\n",
       " 31270951.7222861,\n",
       " 31270951.722285114,\n",
       " 31270951.722284336,\n",
       " 31270951.722283702,\n",
       " 31270951.72228317,\n",
       " 31270951.722282756,\n",
       " 31270951.722282406,\n",
       " 31270951.722282138,\n",
       " 31270951.722281925,\n",
       " 31270951.72228173,\n",
       " 31270951.722281583,\n",
       " 31270951.72228146,\n",
       " 31270951.722281363,\n",
       " 31270951.7222813,\n",
       " 31270951.722281244,\n",
       " 31270951.722281173,\n",
       " 31270951.72228114,\n",
       " 31270951.7222811,\n",
       " 31270951.722281072,\n",
       " 31270951.722281042,\n",
       " 31270951.722281046,\n",
       " 31270951.72228103,\n",
       " 31270951.722281,\n",
       " 31270951.722281,\n",
       " 31270951.722280994,\n",
       " 31270951.72228098,\n",
       " 31270951.72228099,\n",
       " 31270951.722280983,\n",
       " 31270951.722280957,\n",
       " 31270951.722280968,\n",
       " 31270951.722280983,\n",
       " 31270951.722280957,\n",
       " 31270951.72228096,\n",
       " 31270951.722280964,\n",
       " 31270951.722280964,\n",
       " 31270951.72228097,\n",
       " 31270951.72228096,\n",
       " 31270951.72228098,\n",
       " 31270951.72228097,\n",
       " 31270951.72228097,\n",
       " 31270951.72228097,\n",
       " 31270951.722280975,\n",
       " 31270951.722280964,\n",
       " 31270951.722280968,\n",
       " 31270951.72228096,\n",
       " 31270951.72228096,\n",
       " 31270951.722280964,\n",
       " 31270951.722280957,\n",
       " 31270951.722280968,\n",
       " 31270951.722280968,\n",
       " 31270951.722280968,\n",
       " 31270951.722280957,\n",
       " 31270951.722280964,\n",
       " 31270951.722280968,\n",
       " 31270951.722280964,\n",
       " 31270951.722280968,\n",
       " 31270951.722280957,\n",
       " 31270951.722280964,\n",
       " 31270951.722280942,\n",
       " 31270951.72228097,\n",
       " 31270951.722280964,\n",
       " 31270951.722280964,\n",
       " 31270951.72228096,\n",
       " 31270951.72228097,\n",
       " 31270951.722280968,\n",
       " 31270951.722280946,\n",
       " 31270951.722280964,\n",
       " 31270951.72228098,\n",
       " 31270951.72228096,\n",
       " 31270951.722280968,\n",
       " 31270951.722280942,\n",
       " 31270951.722280987,\n",
       " 31270951.722280946,\n",
       " 31270951.722280957,\n",
       " 31270951.722280957,\n",
       " 31270951.722280964,\n",
       " 31270951.722280964,\n",
       " 31270951.72228096,\n",
       " 31270951.72228097,\n",
       " 31270951.722280968,\n",
       " 31270951.72228097,\n",
       " 31270951.72228096,\n",
       " 31270951.72228096,\n",
       " 31270951.722280975,\n",
       " 31270951.722280964,\n",
       " 31270951.722280953,\n",
       " 31270951.722280975,\n",
       " 31270951.72228096,\n",
       " 31270951.72228096,\n",
       " 31270951.722280964,\n",
       " 31270951.72228098,\n",
       " 31270951.72228097,\n",
       " 31270951.72228096,\n",
       " 31270951.722280975,\n",
       " 31270951.722280968,\n",
       " 31270951.722280946,\n",
       " 31270951.722280964,\n",
       " 31270951.722280942,\n",
       " 31270951.722280964,\n",
       " 31270951.722280968,\n",
       " 31270951.72228096,\n",
       " 31270951.722280968,\n",
       " 31270951.722280968,\n",
       " 31270951.722280968,\n",
       " 31270951.722280957,\n",
       " 31270951.722280953,\n",
       " 31270951.722280957,\n",
       " 31270951.722280964,\n",
       " 31270951.722280957,\n",
       " 31270951.722280964,\n",
       " 31270951.722280975,\n",
       " 31270951.722280942,\n",
       " 31270951.72228096,\n",
       " 31270951.722280964,\n",
       " 31270951.722280968,\n",
       " 31270951.722280968,\n",
       " 31270951.722280964,\n",
       " 31270951.72228097,\n",
       " 31270951.722280946,\n",
       " 31270951.722280968,\n",
       " 31270951.722280957,\n",
       " 31270951.72228097,\n",
       " 31270951.722280957,\n",
       " 31270951.722280964,\n",
       " 31270951.72228096,\n",
       " 31270951.722280957,\n",
       " 31270951.722280968,\n",
       " 31270951.722280964,\n",
       " 31270951.722280968,\n",
       " 31270951.72228098,\n",
       " 31270951.722280957,\n",
       " 31270951.72228096,\n",
       " 31270951.72228097,\n",
       " 31270951.722280968,\n",
       " 31270951.72228096]"
      ]
     },
     "execution_count": 80,
     "metadata": {},
     "output_type": "execute_result"
    }
   ],
   "source": [
    "err , theta = gradientDescent(x,y)\n",
    "err"
   ]
  },
  {
   "cell_type": "code",
   "execution_count": 81,
   "metadata": {},
   "outputs": [
    {
     "data": {
      "text/plain": [
       "[<matplotlib.lines.Line2D at 0x2171b8286a0>]"
      ]
     },
     "execution_count": 81,
     "metadata": {},
     "output_type": "execute_result"
    },
    {
     "data": {
      "image/png": "[encoded data removed]",
      "text/plain": [
       "<Figure size 432x288 with 1 Axes>"
      ]
     },
     "metadata": {
      "needs_background": "light"
     },
     "output_type": "display_data"
    }
   ],
   "source": [
    "ypred = theta[1]*x + theta[0]\n",
    "plt.scatter(x,y,c='green')\n",
    "plt.plot(x,ypred,c='red')"
   ]
  },
  {
   "cell_type": "code",
   "execution_count": 82,
   "metadata": {},
   "outputs": [],
   "source": [
    "def r2score():\n",
    "    Ypred = hypothesis(x,theta)\n",
    "    num = np.sum((y-Ypred)**2)\n",
    "    denom = np.sum((y-y.mean())**2)\n",
    "    score = (1-num/denom)\n",
    "    return score*100"
   ]
  },
  {
   "cell_type": "code",
   "execution_count": 83,
   "metadata": {},
   "outputs": [
    {
     "data": {
      "text/plain": [
       "95.69566641435085"
      ]
     },
     "execution_count": 83,
     "metadata": {},
     "output_type": "execute_result"
    }
   ],
   "source": [
    "r2score()"
   ]
  },
  {
   "cell_type": "code",
   "execution_count": null,
   "metadata": {},
   "outputs": [],
   "source": []
  }
 ],
 "metadata": {
  "kernelspec": {
   "display_name": "Python 3",
   "language": "python",
   "name": "python3"
  },
  "language_info": {
   "codemirror_mode": {
    "name": "ipython",
    "version": 3
   },
   "file_extension": ".py",
   "mimetype": "text/x-python",
   "name": "python",
   "nbconvert_exporter": "python",
   "pygments_lexer": "ipython3",
   "version": "3.7.3"
  }
 },
 "nbformat": 4,
 "nbformat_minor": 2
}
